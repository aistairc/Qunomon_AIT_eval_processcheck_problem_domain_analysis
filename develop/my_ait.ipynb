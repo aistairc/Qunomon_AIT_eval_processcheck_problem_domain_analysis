{
 "cells": [
  {
   "cell_type": "markdown",
   "metadata": {
    "deletable": false,
    "editable": false
   },
   "source": [
    "# AIT Development notebook"
   ]
  },
  {
   "cell_type": "markdown",
   "metadata": {
    "deletable": false,
    "editable": false
   },
   "source": [
    "## notebook of structure"
   ]
  },
  {
   "cell_type": "markdown",
   "metadata": {
    "deletable": false,
    "editable": false
   },
   "source": [
    "| #  | Name                                               | cells | for_dev | edit               | description                                                                |\n",
    "|----|----------------------------------------------------|-------|---------|--------------------|----------------------------------------------------------------------------|\n",
    "| 1  | [Environment detection](##1-Environment-detection) | 1     | No      | uneditable         | detect whether the notebook are invoked for packaging or in production     |\n",
    "| 2  | [Preparing AIT SDK](##2-Preparing-AIT-SDK)         | 1     | Yes     | uneditable         | download and install AIT SDK                                               |\n",
    "| 3  | [Dependency Management](##3-Dependency-Management) | 3     | Yes     | required(cell #2)  | generate requirements.txt for Docker container                             |\n",
    "| 4  | [Importing Libraries](##4-Importing-Libraries)     | 2     | Yes     | required(cell #1)  | import required libraries                                                  |\n",
    "| 5  | [Manifest Generation](##5-Manifest-Generation)     | 1     | Yes     | required           | generate AIT Manifest                                                      |\n",
    "| 6  | [Prepare for the Input](##6-Prepare-for-the-Input) | 1     | Yes     | required           | generate AIT Input JSON (inventory mapper)                                 |\n",
    "| 7  | [Initialization](##7-Initialization)               | 1     | No      | uneditable         | initialization for AIT execution                                           |\n",
    "| 8  | [Function definitions](##8-Function-definitions)   | N     | No      | required           | define functions invoked from Main area.<br> also define output functions. |\n",
    "| 9  | [Main Algorithms](##9-Main-Algorithms)             | 1     | No      | required           | area for main algorithms of an AIT                                         |\n",
    "| 10 | [Entry point](##10-Entry-point)                    | 1     | No      | uneditable         | an entry point where Qunomon invoke this AIT from here                     |\n",
    "| 11 | [License](##11-License)                            | 1     | Yes     | required           | generate license information                                               |\n",
    "| 12 | [Deployment](##12-Deployment)                      | 1     | Yes     | uneditable         | convert this notebook to the python file for packaging purpose             |"
   ]
  },
  {
   "cell_type": "markdown",
   "metadata": {
    "deletable": false,
    "editable": false
   },
   "source": [
    "## notebook template revision history"
   ]
  },
  {
   "cell_type": "markdown",
   "metadata": {
    "deletable": false,
    "editable": false
   },
   "source": [
    "1.0.1 2020/10/21\n",
    "\n",
    "* add revision history\n",
    "* separate `create requirements and pip install` editable and noeditable\n",
    "* separate `import` editable and noeditable\n",
    "\n",
    "1.0.0 2020/10/12\n",
    "\n",
    "* new cerarion"
   ]
  },
  {
   "cell_type": "markdown",
   "metadata": {
    "deletable": false,
    "editable": false
   },
   "source": [
    "## body"
   ]
  },
  {
   "cell_type": "markdown",
   "metadata": {
    "deletable": false,
    "editable": false
   },
   "source": [
    "### #1 Environment detection"
   ]
  },
  {
   "cell_type": "markdown",
   "metadata": {
    "deletable": false,
    "editable": false
   },
   "source": [
    "[uneditable]"
   ]
  },
  {
   "cell_type": "code",
   "execution_count": 1,
   "metadata": {
    "deletable": false,
    "editable": false
   },
   "outputs": [],
   "source": [
    "# Determine whether to start AIT or jupyter by startup argument\n",
    "import sys\n",
    "is_ait_launch = (len(sys.argv) == 2)"
   ]
  },
  {
   "cell_type": "markdown",
   "metadata": {
    "deletable": false,
    "editable": false
   },
   "source": [
    "### #2 Preparing AIT SDK"
   ]
  },
  {
   "cell_type": "markdown",
   "metadata": {
    "deletable": false,
    "editable": false
   },
   "source": [
    "[uneditable]"
   ]
  },
  {
   "cell_type": "code",
   "execution_count": 2,
   "metadata": {
    "deletable": false,
    "editable": false
   },
   "outputs": [
    {
     "name": "stdout",
     "output_type": "stream",
     "text": [
      "\u001b[33mWARNING: Running pip as the 'root' user can result in broken permissions and conflicting behaviour with the system package manager, possibly rendering your system unusable.It is recommended to use a virtual environment instead: https://pip.pypa.io/warnings/venv. Use the --root-user-action option if you know what you are doing and want to suppress this warning.\u001b[0m\u001b[33m\n",
      "\u001b[0m\u001b[33mWARNING: Running pip as the 'root' user can result in broken permissions and conflicting behaviour with the system package manager, possibly rendering your system unusable.It is recommended to use a virtual environment instead: https://pip.pypa.io/warnings/venv. Use the --root-user-action option if you know what you are doing and want to suppress this warning.\u001b[0m\u001b[33m\n",
      "\u001b[0m"
     ]
    }
   ],
   "source": [
    "if not is_ait_launch:\n",
    "    # get ait-sdk file name\n",
    "    from pathlib import Path\n",
    "    from glob import glob\n",
    "    import re\n",
    "    import os\n",
    "\n",
    "    current_dir = %pwd\n",
    "\n",
    "    ait_sdk_path = \"./ait_sdk-*-py3-none-any.whl\"\n",
    "    ait_sdk_list = glob(ait_sdk_path)\n",
    "    ait_sdk_name = os.path.basename(ait_sdk_list[-1])\n",
    "\n",
    "    # install ait-sdk\n",
    "    !pip install -q --upgrade pip\n",
    "    !pip install -q --no-deps --force-reinstall ./$ait_sdk_name"
   ]
  },
  {
   "cell_type": "markdown",
   "metadata": {
    "deletable": false,
    "editable": false
   },
   "source": [
    "### #3 Dependency Management"
   ]
  },
  {
   "cell_type": "markdown",
   "metadata": {
    "deletable": false,
    "editable": false
   },
   "source": [
    "#### #3-1 [uneditable]"
   ]
  },
  {
   "cell_type": "code",
   "execution_count": 3,
   "metadata": {
    "deletable": false,
    "editable": false
   },
   "outputs": [],
   "source": [
    "if not is_ait_launch:\n",
    "    from ait_sdk.common.files.ait_requirements_generator import AITRequirementsGenerator\n",
    "    requirements_generator = AITRequirementsGenerator()"
   ]
  },
  {
   "cell_type": "markdown",
   "metadata": {
    "deletable": false,
    "editable": false
   },
   "source": [
    "#### #3-2 [required]"
   ]
  },
  {
   "cell_type": "code",
   "execution_count": 4,
   "metadata": {},
   "outputs": [],
   "source": [
    "if not is_ait_launch:\n",
    "    requirements_generator.add_package('pandas','2.2.3')\n",
    "    requirements_generator.add_package('matplotlib','3.7.3')"
   ]
  },
  {
   "cell_type": "markdown",
   "metadata": {
    "deletable": false,
    "editable": false
   },
   "source": [
    "#### #3-3 [uneditable]"
   ]
  },
  {
   "cell_type": "code",
   "execution_count": 5,
   "metadata": {
    "deletable": false,
    "editable": false
   },
   "outputs": [
    {
     "name": "stdout",
     "output_type": "stream",
     "text": [
      "\u001b[31mERROR: pip's dependency resolver does not currently take into account all the packages that are installed. This behaviour is the source of the following dependency conflicts.\n",
      "jupyter-server 2.14.2 requires nbformat>=5.3.0, but you have nbformat 5.2.0 which is incompatible.\u001b[0m\u001b[31m\n",
      "\u001b[0m\u001b[33mWARNING: Running pip as the 'root' user can result in broken permissions and conflicting behaviour with the system package manager, possibly rendering your system unusable.It is recommended to use a virtual environment instead: https://pip.pypa.io/warnings/venv. Use the --root-user-action option if you know what you are doing and want to suppress this warning.\u001b[0m\u001b[33m\n",
      "\u001b[0m"
     ]
    }
   ],
   "source": [
    "if not is_ait_launch:\n",
    "    requirements_generator.add_package(f'./{ait_sdk_name}')\n",
    "    requirements_path = requirements_generator.create_requirements(current_dir)\n",
    "\n",
    "    !pip install -q -r $requirements_path "
   ]
  },
  {
   "cell_type": "markdown",
   "metadata": {
    "deletable": false,
    "editable": false
   },
   "source": [
    "### #4 Importing Libraries"
   ]
  },
  {
   "cell_type": "markdown",
   "metadata": {
    "deletable": false,
    "editable": false
   },
   "source": [
    "#### #4-1 [required]"
   ]
  },
  {
   "cell_type": "code",
   "execution_count": 6,
   "metadata": {},
   "outputs": [],
   "source": [
    "import numpy as np\n",
    "import pandas as pd\n",
    "import matplotlib.pyplot as plt\n",
    "from matplotlib.gridspec import GridSpec"
   ]
  },
  {
   "cell_type": "markdown",
   "metadata": {
    "deletable": false,
    "editable": false
   },
   "source": [
    "#### #4-2 [uneditable]"
   ]
  },
  {
   "cell_type": "code",
   "execution_count": 7,
   "metadata": {
    "deletable": false,
    "editable": false
   },
   "outputs": [],
   "source": [
    "# must use modules\n",
    "from os import path\n",
    "import shutil  # do not remove\n",
    "from ait_sdk.common.files.ait_input import AITInput  # do not remove\n",
    "from ait_sdk.common.files.ait_output import AITOutput  # do not remove\n",
    "from ait_sdk.common.files.ait_manifest import AITManifest  # do not remove\n",
    "from ait_sdk.develop.ait_path_helper import AITPathHelper  # do not remove\n",
    "from ait_sdk.utils.logging import get_logger, log, get_log_path  # do not remove\n",
    "from ait_sdk.develop.annotation import measures, resources, downloads, ait_main  # do not remove\n",
    "# must use modules"
   ]
  },
  {
   "cell_type": "code",
   "execution_count": 8,
   "metadata": {},
   "outputs": [],
   "source": [
    "ITEM_CATEGORY='カテゴリ'\n",
    "ITEM_REQLEVEL='要求レベル'\n",
    "ITEM_CHECK='チェック'\n",
    "reqlevel_items = ['Required','Lv1','Lv2','Lv3']\n",
    "check_items = ['〇','×',np.nan,'－']\n",
    "NONE='NONE'"
   ]
  },
  {
   "cell_type": "markdown",
   "metadata": {
    "deletable": false,
    "editable": false
   },
   "source": [
    "### #5 Manifest Generation"
   ]
  },
  {
   "cell_type": "markdown",
   "metadata": {
    "deletable": false,
    "editable": false
   },
   "source": [
    "[required]"
   ]
  },
  {
   "cell_type": "code",
   "execution_count": 9,
   "metadata": {},
   "outputs": [],
   "source": [
    "if not is_ait_launch:\n",
    "## sample ##\n",
    "     from ait_sdk.common.files.ait_manifest_generator import AITManifestGenerator\n",
    "     manifest_genenerator = AITManifestGenerator(current_dir)\n",
    "     manifest_genenerator.set_ait_name('eval_processcheck_problem_domain_analysis')\n",
    "     manifest_genenerator.set_ait_description('機械学習品質マネジメントガイドライン第三版に従って、機械学習利用システムに用いるデータセットが問題領域分析の十分性を満たしているかをチェックリスト方式で審査する。'\n",
    "                                              'チェックリストはhttps://github.com/aistairc/Qunomon_AIT_eval_processcheck_problem_domain_analysisからダウンロードできる。')\n",
    "     manifest_genenerator.set_ait_source_repository('https://github.com/aistairc/Qunomon_AIT_eval_processcheck_problem_domain_analysis')\n",
    "     manifest_genenerator.set_ait_version('0.2')\n",
    "     manifest_genenerator.add_ait_keywords('checklist,sufficiency of problem domain')\n",
    "     manifest_genenerator.set_ait_quality('https://ait-hub.pj.aist.go.jp/ait-hub/api/0.0.1/qualityDimensions/機械学習品質マネジメントガイドライン第三版/A-1問題領域分析の十分性')\n",
    "     inventory_requirement_checklist = manifest_genenerator.format_ait_inventory_requirement(format_=['csv'])\n",
    "     manifest_genenerator.add_ait_inventories(name='checklist', \n",
    "                                              type_='dataset', \n",
    "                                              description='問題領域分析の十分性のチェックリスト', \n",
    "                                              requirement=inventory_requirement_checklist)\n",
    "     manifest_genenerator.add_ait_parameters(name='AISL', \n",
    "                                             type_='str', \n",
    "                                             description='外部品質特性レベルの一種。リスク回避性レベル', \n",
    "                                             default_val=NONE)\n",
    "     manifest_genenerator.add_ait_parameters(name='AIPL', \n",
    "                                             type_='str', \n",
    "                                             description='外部品質特性レベルの一種。AIパフォーマンスレベル', \n",
    "                                             default_val=NONE)\n",
    "     manifest_genenerator.add_ait_parameters(name='AIFL', \n",
    "                                             type_='str', \n",
    "                                             description='外部品質特性レベルの一種。公平性レベル', \n",
    "                                             default_val=NONE)\n",
    "     manifest_genenerator.add_ait_measures(name='pass_fail', \n",
    "                                           type_='bool', \n",
    "                                           description='審査は次の2観点から判定される。1.要求レベルを満たす項目がすべて〇であること。2.要求レベルがRequiredの項目がすべて〇、もしくは－であること', \n",
    "                                           structure='single')\n",
    "     manifest_genenerator.add_ait_downloads(name='Log', \n",
    "                                            description='AIT実行ログ')\n",
    "     manifest_path = manifest_genenerator.write()"
   ]
  },
  {
   "cell_type": "markdown",
   "metadata": {
    "deletable": false,
    "editable": false
   },
   "source": [
    "### #6 Prepare for the Input"
   ]
  },
  {
   "cell_type": "markdown",
   "metadata": {
    "deletable": false,
    "editable": false
   },
   "source": [
    "[required]"
   ]
  },
  {
   "cell_type": "code",
   "execution_count": 10,
   "metadata": {},
   "outputs": [],
   "source": [
    "if not is_ait_launch:\n",
    "    from ait_sdk.common.files.ait_input_generator import AITInputGenerator\n",
    "    input_generator = AITInputGenerator(manifest_path)\n",
    "    input_generator.add_ait_inventories(name='checklist',\n",
    "                                        value='checklist.csv')\n",
    "    input_generator.set_ait_params(name='AISL',value=NONE)\n",
    "    input_generator.set_ait_params(name='AIPL',value='1.0')\n",
    "    input_generator.set_ait_params(name='AIFL',value='1.0')\n",
    "    input_generator.write()"
   ]
  },
  {
   "cell_type": "markdown",
   "metadata": {
    "deletable": false,
    "editable": false
   },
   "source": [
    "### #7 Initialization"
   ]
  },
  {
   "cell_type": "markdown",
   "metadata": {
    "deletable": false,
    "editable": false
   },
   "source": [
    "[uneditable]"
   ]
  },
  {
   "cell_type": "code",
   "execution_count": 11,
   "metadata": {
    "deletable": false,
    "editable": false
   },
   "outputs": [],
   "source": [
    "logger = get_logger()\n",
    "\n",
    "ait_manifest = AITManifest()\n",
    "ait_input = AITInput(ait_manifest)\n",
    "ait_output = AITOutput(ait_manifest)\n",
    "\n",
    "if is_ait_launch:\n",
    "    # launch from AIT\n",
    "    current_dir = path.dirname(path.abspath(__file__))\n",
    "    path_helper = AITPathHelper(argv=sys.argv, ait_input=ait_input, ait_manifest=ait_manifest, entry_point_dir=current_dir)\n",
    "else:\n",
    "    # launch from jupyter notebook\n",
    "    # ait.input.json make in input_dir\n",
    "    input_dir = '/usr/local/qai/mnt/ip/job_args/1/1'\n",
    "    current_dir = %pwd\n",
    "    path_helper = AITPathHelper(argv=['', input_dir], ait_input=ait_input, ait_manifest=ait_manifest, entry_point_dir=current_dir)\n",
    "\n",
    "ait_input.read_json(path_helper.get_input_file_path())\n",
    "ait_manifest.read_json(path_helper.get_manifest_file_path())\n",
    "\n",
    "### do not edit cell"
   ]
  },
  {
   "cell_type": "markdown",
   "metadata": {
    "deletable": false,
    "editable": false
   },
   "source": [
    "### #8 Function definitions"
   ]
  },
  {
   "cell_type": "markdown",
   "metadata": {
    "deletable": false,
    "editable": false
   },
   "source": [
    "[required]"
   ]
  },
  {
   "cell_type": "code",
   "execution_count": 12,
   "metadata": {},
   "outputs": [],
   "source": [
    "# 要求レベルの判定\n",
    "@log(logger)\n",
    "def set_RequirementLevel(s_AISL, s_AIPL, s_AIFL):\n",
    "    # validate\n",
    "    try:\n",
    "        # 初期値の場合は暫定的に(float化できる)'0'を入れる\n",
    "        s_AISL = '0' if s_AISL==NONE else s_AISL\n",
    "        s_AIPL = '0' if s_AIPL==NONE else s_AIPL\n",
    "        s_AIFL = '0' if s_AIFL==NONE else s_AIFL\n",
    "        \n",
    "        AISL = float(s_AISL)\n",
    "        AIPL = float(s_AIPL)\n",
    "        AIFL = float(s_AIFL)\n",
    "    except ValueError as e:\n",
    "        print('Numerical conversion failed.')\n",
    "        return -1\n",
    "    \n",
    "    \n",
    "    # AISL 1 → Lv 3\n",
    "    # AISL 2～4 → Lv 3 に追加すべき要求について、今後検討する。\n",
    "    if AISL >=1:\n",
    "        return 3.0\n",
    "    \n",
    "    # AISL 0.2 → Lv 2 以上\n",
    "    # AIPL 2 → Lv 2 以上\n",
    "    # AIFL 2 → Lv 2 以上\n",
    "    elif (AISL>=0.2)or(AIPL>=2.0)or(AIFL>=2.0):\n",
    "        return 2.0\n",
    "    \n",
    "    # AISL 0.1 → Lv 1 以上\n",
    "    # AIPL 1 → Lv 1 以上\n",
    "    # AIFL 1 → Lv 1 以上\n",
    "    elif (AISL>=0.1)or(AIPL>=1.0)or(AIFL>=1.0):\n",
    "        return 1.0\n",
    "    \n",
    "    # 内部品質レベル未定義\n",
    "    elif (AISL==0)or(AIPL==0)or(AIFL==0):\n",
    "        return 0.0 # Requiredのみ\n",
    "    \n",
    "    print('Unknown input level.')\n",
    "    return -1"
   ]
  },
  {
   "cell_type": "code",
   "execution_count": 13,
   "metadata": {},
   "outputs": [],
   "source": [
    "# チェックリストのバリデート\n",
    "@log(logger)\n",
    "def validate_input(checklist_table_data):\n",
    "    \n",
    "    returncode = 0\n",
    "    \n",
    "    # カテゴリのチェック\n",
    "    num_cate = len(set(checklist_table_data[ITEM_CATEGORY]))\n",
    "    if num_cate > 20:\n",
    "        print('The category value has reached the upper limit.')\n",
    "        print('num_cate:{}'.format(num_cate))\n",
    "        returncode = -2\n",
    "    \n",
    "    # 要求レベルのチェック\n",
    "    li_reqlevel = list(set(checklist_table_data[ITEM_REQLEVEL]))\n",
    "    if not set(li_reqlevel) <= set(reqlevel_items):\n",
    "        print('The request level is other than expected value.')\n",
    "        print(li_reqlevel)\n",
    "        returncode = -3\n",
    "    \n",
    "    # チェック項目のチェック\n",
    "    li_check = list(set(checklist_table_data[ITEM_CHECK]))\n",
    "    if not set(li_check) <= set(check_items):\n",
    "        print('The check is other than expected value.')\n",
    "        print(li_check)\n",
    "        returncode = -4\n",
    "\n",
    "    return returncode"
   ]
  },
  {
   "cell_type": "code",
   "execution_count": 14,
   "metadata": {},
   "outputs": [],
   "source": [
    "# passチェック\n",
    "@log(logger)\n",
    "@measures(ait_output, 'pass_fail')\n",
    "def pass_check(checklist_pickuped):\n",
    "    '''\n",
    "    pass条件\n",
    "    1.要求レベルを満たす項目がすべて〇、もしくは－(×が含まれない)\n",
    "    '''\n",
    "    \n",
    "    # －を除外\n",
    "    checklist_pickuped = checklist_pickuped[checklist_pickuped[ITEM_CHECK]!=check_items[3]]\n",
    "    \n",
    "    df_pass = checklist_pickuped[checklist_pickuped[ITEM_CHECK]==check_items[0]] # 〇\n",
    "    df_fail = checklist_pickuped[checklist_pickuped[ITEM_CHECK].isin(check_items[1:3])] # ×,空値はエラー扱い\n",
    "    \n",
    "    print('df_pass: {}'.format(len(df_pass)))\n",
    "    print('df_fail: {}'.format(len(df_fail)))\n",
    "    \n",
    "    # 念のため2重チェック\n",
    "    if len(df_fail) != 0:\n",
    "        return False\n",
    "\n",
    "    if len(df_pass) == len(checklist_pickuped):\n",
    "        return True # pass\n",
    "    \n",
    "    return False"
   ]
  },
  {
   "cell_type": "code",
   "execution_count": 15,
   "metadata": {},
   "outputs": [],
   "source": [
    "@log(logger)\n",
    "@downloads(ait_output, path_helper, 'Log', 'ait.log')\n",
    "def move_log(file_path: str=None) -> str:\n",
    "    shutil.move(get_log_path(), file_path)"
   ]
  },
  {
   "cell_type": "markdown",
   "metadata": {
    "deletable": false,
    "editable": false
   },
   "source": [
    "### #9 Main Algorithms"
   ]
  },
  {
   "cell_type": "markdown",
   "metadata": {
    "deletable": false,
    "editable": false
   },
   "source": [
    "[required]"
   ]
  },
  {
   "cell_type": "code",
   "execution_count": 16,
   "metadata": {},
   "outputs": [],
   "source": [
    "@log(logger)\n",
    "@ait_main(ait_output, path_helper)\n",
    "def main() -> None:\n",
    "    # チェックリストを読み取り\n",
    "    print('\\nInput data load.')\n",
    "    checklist_table_data = pd.read_csv(ait_input.get_inventory_path('checklist'),\n",
    "                                       usecols=['No.', 'カテゴリ', '要求レベル', 'チェック'],\n",
    "                                       index_col=0)\n",
    "\n",
    "    s_AISL = ait_input.get_method_param_value('AISL')\n",
    "    s_AIPL = ait_input.get_method_param_value('AIPL')\n",
    "    s_AIFL = ait_input.get_method_param_value('AIFL')\n",
    "    \n",
    "    # 入力チェック\n",
    "    print('\\nValidation.')\n",
    "    if validate_input(checklist_table_data) != 0:\n",
    "        return -1\n",
    "    \n",
    "    # 外部品質特性レベルから必要要求レベルを判定する\n",
    "    print('\\nSet Requirement level.')\n",
    "    requirementlevel = set_RequirementLevel(s_AISL, s_AIPL, s_AIFL)\n",
    "    if requirementlevel<=-1.0:\n",
    "        return -1\n",
    "    print('AISL:{}, AIPL:{}, AIFL:{}'.format(s_AISL, s_AIPL, s_AIFL))\n",
    "    print('requirementlevel: {}'.format(requirementlevel))\n",
    "    \n",
    "    # 要求レベル該当項目の判定\n",
    "    print('\\nPickup.')\n",
    "    if requirementlevel == 3.0:\n",
    "        reqlevel_range = reqlevel_items\n",
    "    elif requirementlevel == 2.0:\n",
    "        reqlevel_range = reqlevel_items[:-1]\n",
    "    elif requirementlevel == 1.0:\n",
    "        reqlevel_range = reqlevel_items[:-2]\n",
    "    else:\n",
    "        reqlevel_range = reqlevel_items[:-3]\n",
    "    print('reqlevel_range: {}'.format(reqlevel_range))\n",
    "    \n",
    "    checklist_pickuped = checklist_table_data[checklist_table_data[ITEM_REQLEVEL].isin(reqlevel_range)]\n",
    "    print('number of pickup data: {}/{}'.format(len(checklist_pickuped), len(checklist_table_data)))\n",
    "    print(checklist_pickuped)\n",
    "    \n",
    "    # 総合審査\n",
    "    print('\\nPass Check.')\n",
    "    print('pass: {}'.format(pass_check(checklist_pickuped)))\n",
    "    \n",
    "    move_log()"
   ]
  },
  {
   "cell_type": "markdown",
   "metadata": {
    "deletable": false,
    "editable": false
   },
   "source": [
    "### #10 Entry point"
   ]
  },
  {
   "cell_type": "markdown",
   "metadata": {
    "deletable": false,
    "editable": false
   },
   "source": [
    "[uneditable]"
   ]
  },
  {
   "cell_type": "code",
   "execution_count": 17,
   "metadata": {
    "deletable": false,
    "editable": false
   },
   "outputs": [
    {
     "name": "stdout",
     "output_type": "stream",
     "text": [
      "\n",
      "Input data load.\n",
      "\n",
      "Validation.\n",
      "\n",
      "Set Requirement level.\n",
      "AISL:NONE, AIPL:1.0, AIFL:1.0\n",
      "requirementlevel: 1.0\n",
      "\n",
      "Pickup.\n",
      "reqlevel_range: ['Required', 'Lv1']\n",
      "number of pickup data: 11/18\n",
      "               カテゴリ     要求レベル チェック\n",
      "No.                               \n",
      "1      属性及び属性値の列挙抽出  Required    〇\n",
      "2      属性及び属性値の列挙抽出  Required    〇\n",
      "3      属性及び属性値の列挙抽出  Required    〇\n",
      "4      属性及び属性値の列挙抽出  Required    －\n",
      "5      属性及び属性値の列挙抽出  Required    －\n",
      "6      属性及び属性値の列挙抽出  Required    －\n",
      "7      属性及び属性値の列挙抽出  Required    －\n",
      "8      属性及び属性値の列挙抽出  Required    〇\n",
      "9    除外する属性組み合わせの検討  Required    〇\n",
      "10     品質レベルごとの要求事項       Lv1    〇\n",
      "11     品質レベルごとの要求事項       Lv1    －\n",
      "\n",
      "Pass Check.\n",
      "df_pass: 6\n",
      "df_fail: 0\n",
      "pass: True\n"
     ]
    }
   ],
   "source": [
    "if __name__ == '__main__':\n",
    "    main()"
   ]
  },
  {
   "cell_type": "markdown",
   "metadata": {
    "deletable": false,
    "editable": false
   },
   "source": [
    "### #11 License"
   ]
  },
  {
   "cell_type": "markdown",
   "metadata": {
    "deletable": false,
    "editable": false
   },
   "source": [
    "[required]"
   ]
  },
  {
   "cell_type": "code",
   "execution_count": 18,
   "metadata": {},
   "outputs": [],
   "source": [
    "## sample ##\n",
    "ait_owner='AIST'\n",
    "ait_creation_year='2023'"
   ]
  },
  {
   "cell_type": "markdown",
   "metadata": {
    "deletable": false,
    "editable": false
   },
   "source": [
    "### #12 Deployment"
   ]
  },
  {
   "cell_type": "markdown",
   "metadata": {
    "deletable": false,
    "editable": false
   },
   "source": [
    "[uneditable] "
   ]
  },
  {
   "cell_type": "code",
   "execution_count": 19,
   "metadata": {
    "deletable": false,
    "editable": false
   },
   "outputs": [],
   "source": [
    "if not is_ait_launch:\n",
    "    from ait_sdk.deploy import prepare_deploy\n",
    "    from ait_sdk.license.license_generator import LicenseGenerator\n",
    "    \n",
    "    current_dir = %pwd\n",
    "    prepare_deploy(ait_sdk_name, current_dir, requirements_path)\n",
    "    \n",
    "    # output License.txt\n",
    "    license_generator = LicenseGenerator()\n",
    "    license_generator.write('../top_dir/LICENSE.txt', ait_creation_year, ait_owner)\n"
   ]
  }
 ],
 "metadata": {
  "celltoolbar": "Edit Metadata",
  "kernelspec": {
   "display_name": "Python 3 (ipykernel)",
   "language": "python",
   "name": "python3"
  },
  "language_info": {
   "codemirror_mode": {
    "name": "ipython",
    "version": 3
   },
   "file_extension": ".py",
   "mimetype": "text/x-python",
   "name": "python",
   "nbconvert_exporter": "python",
   "pygments_lexer": "ipython3",
   "version": "3.9.13"
  },
  "vscode": {
   "interpreter": {
    "hash": "cc00c6a56d87bd8bd7773e730c60ddfdb8804da6b7537df09499efbcf81630f7"
   }
  }
 },
 "nbformat": 4,
 "nbformat_minor": 4
}
